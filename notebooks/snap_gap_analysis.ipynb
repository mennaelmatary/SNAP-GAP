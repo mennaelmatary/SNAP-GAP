{
  "cells": [
    {
      "cell_type": "code",
      "execution_count": null,
      "metadata": {
        "vscode": {
          "languageId": "plaintext"
        },
        "id": "hfUhLzAk8UlQ"
      },
      "outputs": [],
      "source": [
        "print(\"Hello SNAP project\")"
      ]
    },
    {
      "cell_type": "markdown",
      "metadata": {
        "id": "aKxFa9EE8UlR"
      },
      "source": [
        "### Exporting Analysis Results\n",
        "Here we save the processed SNAP analysis as a CSV file without geometry.\n",
        "This makes it easier to share with others and open in Excel or Google Sheets."
      ]
    },
    {
      "cell_type": "code",
      "execution_count": null,
      "metadata": {
        "vscode": {
          "languageId": "plaintext"
        },
        "id": "60phHTvx8UlS"
      },
      "outputs": [],
      "source": []
    },
    {
      "cell_type": "code",
      "execution_count": 3,
      "metadata": {
        "vscode": {
          "languageId": "plaintext"
        },
        "colab": {
          "base_uri": "https://localhost:8080/"
        },
        "id": "iVUh5xmS8UlS",
        "outputId": "1d020a33-8631-4943-9611-bc75a4f13917"
      },
      "outputs": [
        {
          "output_type": "stream",
          "name": "stdout",
          "text": [
            "File exported: SNAP_Access_Chicago.csv\n"
          ]
        }
      ],
      "source": [
        "# Export analysis data as a CSV without geo data\n",
        "snap_export = df.drop(columns='geometry', errors='ignore') # Use df instead of SNAP_Analysis and ignore errors if 'geometry' column doesn't exist\n",
        "snap_export.to_csv('SNAP_Access_Chicago.csv', index=False)\n",
        "\n",
        "print(\"File exported: SNAP_Access_Chicago.csv\")"
      ]
    },
    {
      "cell_type": "markdown",
      "metadata": {
        "id": "hsTBK1Bb8UlS"
      },
      "source": []
    },
    {
      "cell_type": "code",
      "execution_count": null,
      "metadata": {
        "vscode": {
          "languageId": "plaintext"
        },
        "id": "n_eD8iN98UlS"
      },
      "outputs": [],
      "source": [
        "import pandas as pd\n",
        "\n",
        "# load data (pretend CSV for now)\n",
        "df = pd.DataFrame({\n",
        "    \"community\": [\"Riverdale\", \"Burnside\", \"West Englewood\"],\n",
        "    \"hh_snap\": [500, 300, 2000],\n",
        "    \"store_count\": [0, 2, 8]\n",
        "})\n",
        "df[\"hh_per_store\"] = df.apply(\n",
        "    lambda r: float(\"inf\") if r[\"store_count\"]==0 else r[\"hh_snap\"]/r[\"store_count\"],\n",
        "    axis=1\n",
        ")\n",
        "df\n"
      ]
    },
    {
      "cell_type": "markdown",
      "metadata": {
        "id": "QV-ObZoJ8UlS"
      },
      "source": [
        "## Analysis\n",
        "This table shows that Riverdale has SNAP households but **no stores**, Burnside has only 2, and West Englewood has very high demand with fewer than 10 stores."
      ]
    },
    {
      "cell_type": "markdown",
      "metadata": {
        "id": "unE46ePa8UlS"
      },
      "source": []
    },
    {
      "cell_type": "markdown",
      "metadata": {
        "id": "NdtFyqh88UlS"
      },
      "source": [
        "### Export Results\n",
        "This step exports the cleaned analysis as a CSV without the geometry column.\n",
        "The file can be downloaded and opened in Excel or any spreadsheet tool"
      ]
    },
    {
      "cell_type": "code",
      "execution_count": null,
      "metadata": {
        "vscode": {
          "languageId": "plaintext"
        },
        "id": "vwOY__N88UlT"
      },
      "outputs": [],
      "source": [
        "## exports analysis data as a csv without geo data\n",
        "SNAP_Analysis_CSV = SNAP_Analysis.drop(columns='geometry')\n",
        "SNAP_Analysis_CSV.to_csv('SNAP_Analysis.csv', index=False)"
      ]
    }
  ],
  "metadata": {
    "language_info": {
      "name": "python"
    },
    "colab": {
      "provenance": []
    },
    "kernelspec": {
      "name": "python3",
      "display_name": "Python 3"
    }
  },
  "nbformat": 4,
  "nbformat_minor": 0
}