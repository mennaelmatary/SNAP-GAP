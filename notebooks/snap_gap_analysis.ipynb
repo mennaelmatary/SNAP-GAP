{
 "cells": [
  {
   "cell_type": "code",
   "execution_count": null,
   "metadata": {
    "vscode": {
     "languageId": "plaintext"
    }
   },
   "outputs": [],
   "source": [
    "print(\"Hello SNAP project\")"
   ]
  },
  {
   "cell_type": "markdown",
   "metadata": {},
   "source": [
    "### Exporting Analysis Results\n",
    "Here we save the processed SNAP analysis as a CSV file without geometry. \n",
    "This makes it easier to share with others and open in Excel or Google Sheets."
   ]
  },
  {
   "cell_type": "code",
   "execution_count": null,
   "metadata": {
    "vscode": {
     "languageId": "plaintext"
    }
   },
   "outputs": [],
   "source": []
  },
  {
   "cell_type": "code",
   "execution_count": null,
   "metadata": {
    "vscode": {
     "languageId": "plaintext"
    }
   },
   "outputs": [],
   "source": [
    "# Export analysis data as a CSV without geo data\n",
    "snap_export = SNAP_Analysis.drop(columns='geometry')\n",
    "snap_export.to_csv('SNAP_Access_Chicago.csv', index=False)\n",
    "\n",
    "print(\"File exported: SNAP_Access_Chicago.csv\")"
   ]
  },
  {
   "cell_type": "markdown",
   "metadata": {},
   "source": []
  },
  {
   "cell_type": "code",
   "execution_count": null,
   "metadata": {
    "vscode": {
     "languageId": "plaintext"
    }
   },
   "outputs": [],
   "source": [
    "import pandas as pd\n",
    "\n",
    "# load data (pretend CSV for now)\n",
    "df = pd.DataFrame({\n",
    "    \"community\": [\"Riverdale\", \"Burnside\", \"West Englewood\"],\n",
    "    \"hh_snap\": [500, 300, 2000],\n",
    "    \"store_count\": [0, 2, 8]\n",
    "})\n",
    "df[\"hh_per_store\"] = df.apply(\n",
    "    lambda r: float(\"inf\") if r[\"store_count\"]==0 else r[\"hh_snap\"]/r[\"store_count\"],\n",
    "    axis=1\n",
    ")\n",
    "df\n"
   ]
  },
  {
   "cell_type": "markdown",
   "metadata": {},
   "source": [
    "## Analysis\n",
    "This table shows that Riverdale has SNAP households but **no stores**, Burnside has only 2, and West Englewood has very high demand with fewer than 10 stores."
   ]
  },
  {
   "cell_type": "markdown",
   "metadata": {},
   "source": []
  },
  {
   "cell_type": "markdown",
   "metadata": {},
   "source": [
    "### Export Results\n",
    "This step exports the cleaned analysis as a CSV without the geometry column. \n",
    "The file can be downloaded and opened in Excel or any spreadsheet tool"
   ]
  },
  {
   "cell_type": "code",
   "execution_count": null,
   "metadata": {
    "vscode": {
     "languageId": "plaintext"
    }
   },
   "outputs": [],
   "source": [
    "## exports analysis data as a csv without geo data\n",
    "SNAP_Analysis_CSV = SNAP_Analysis.drop(columns='geometry')\n",
    "SNAP_Analysis_CSV.to_csv('SNAP_Analysis.csv', index=False)"
   ]
  }
 ],
 "metadata": {
  "language_info": {
   "name": "python"
  }
 },
 "nbformat": 4,
 "nbformat_minor": 2
}
