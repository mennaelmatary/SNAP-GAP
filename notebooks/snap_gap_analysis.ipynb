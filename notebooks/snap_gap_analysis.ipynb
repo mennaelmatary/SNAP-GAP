{
 "cells": [
  {
   "cell_type": "code",
   "execution_count": null,
   "metadata": {
    "vscode": {
     "languageId": "plaintext"
    }
   },
   "outputs": [],
   "source": [
    "print(\"Hello SNAP project\")"
   ]
  },
  {
   "cell_type": "code",
   "execution_count": null,
   "metadata": {
    "vscode": {
     "languageId": "plaintext"
    }
   },
   "outputs": [],
   "source": [
    "import pandas as pd\n",
    "\n",
    "# load data (pretend CSV for now)\n",
    "df = pd.DataFrame({\n",
    "    \"community\": [\"Riverdale\", \"Burnside\", \"West Englewood\"],\n",
    "    \"hh_snap\": [500, 300, 2000],\n",
    "    \"store_count\": [0, 2, 8]\n",
    "})\n",
    "df[\"hh_per_store\"] = df.apply(\n",
    "    lambda r: float(\"inf\") if r[\"store_count\"]==0 else r[\"hh_snap\"]/r[\"store_count\"],\n",
    "    axis=1\n",
    ")\n",
    "df\n"
   ]
  },
  {
   "cell_type": "markdown",
   "metadata": {},
   "source": [
    "## Analysis\n",
    "This table shows that Riverdale has SNAP households but **no stores**, Burnside has only 2, and West Englewood has very high demand with fewer than 10 stores."
   ]
  },
  {
   "cell_type": "markdown",
   "metadata": {},
   "source": []
  }
 ],
 "metadata": {
  "language_info": {
   "name": "python"
  }
 },
 "nbformat": 4,
 "nbformat_minor": 2
}
